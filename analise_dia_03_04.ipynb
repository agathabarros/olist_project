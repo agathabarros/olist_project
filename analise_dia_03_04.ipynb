{
 "cells": [
  {
   "cell_type": "code",
   "execution_count": 8,
   "id": "f8d4ad72",
   "metadata": {},
   "outputs": [
    {
     "data": {
      "text/html": [
       "<div>\n",
       "<style scoped>\n",
       "    .dataframe tbody tr th:only-of-type {\n",
       "        vertical-align: middle;\n",
       "    }\n",
       "\n",
       "    .dataframe tbody tr th {\n",
       "        vertical-align: top;\n",
       "    }\n",
       "\n",
       "    .dataframe thead th {\n",
       "        text-align: right;\n",
       "    }\n",
       "</style>\n",
       "<table border=\"1\" class=\"dataframe\">\n",
       "  <thead>\n",
       "    <tr style=\"text-align: right;\">\n",
       "      <th></th>\n",
       "      <th>customer_unique_id</th>\n",
       "      <th>recencia_dias</th>\n",
       "      <th>frequencia</th>\n",
       "      <th>valor_total_gasto</th>\n",
       "      <th>r_score</th>\n",
       "      <th>f_score</th>\n",
       "      <th>m_score</th>\n",
       "      <th>rfm_score_completo</th>\n",
       "      <th>segmento</th>\n",
       "    </tr>\n",
       "  </thead>\n",
       "  <tbody>\n",
       "    <tr>\n",
       "      <th>0</th>\n",
       "      <td>f2c2365cab7dc57ab8c90f9c3bee015a</td>\n",
       "      <td>72</td>\n",
       "      <td>1</td>\n",
       "      <td>209.46</td>\n",
       "      <td>5</td>\n",
       "      <td>5</td>\n",
       "      <td>5</td>\n",
       "      <td>555</td>\n",
       "      <td>Campeões</td>\n",
       "    </tr>\n",
       "    <tr>\n",
       "      <th>1</th>\n",
       "      <td>4fbbe3e555c12c6fb7184b3e2d04fb49</td>\n",
       "      <td>132</td>\n",
       "      <td>1</td>\n",
       "      <td>209.96</td>\n",
       "      <td>5</td>\n",
       "      <td>5</td>\n",
       "      <td>5</td>\n",
       "      <td>555</td>\n",
       "      <td>Campeões</td>\n",
       "    </tr>\n",
       "    <tr>\n",
       "      <th>2</th>\n",
       "      <td>f2c10bd6c35a005af95c9c000b3cfd9d</td>\n",
       "      <td>134</td>\n",
       "      <td>1</td>\n",
       "      <td>229.28</td>\n",
       "      <td>5</td>\n",
       "      <td>5</td>\n",
       "      <td>5</td>\n",
       "      <td>555</td>\n",
       "      <td>Campeões</td>\n",
       "    </tr>\n",
       "    <tr>\n",
       "      <th>3</th>\n",
       "      <td>b4d20b907a61795e8c8f3a7966c6cfb9</td>\n",
       "      <td>125</td>\n",
       "      <td>2</td>\n",
       "      <td>249.60</td>\n",
       "      <td>5</td>\n",
       "      <td>5</td>\n",
       "      <td>5</td>\n",
       "      <td>555</td>\n",
       "      <td>Campeões</td>\n",
       "    </tr>\n",
       "    <tr>\n",
       "      <th>4</th>\n",
       "      <td>934157f44075d9ca396f27f72c99a338</td>\n",
       "      <td>128</td>\n",
       "      <td>1</td>\n",
       "      <td>333.45</td>\n",
       "      <td>5</td>\n",
       "      <td>5</td>\n",
       "      <td>5</td>\n",
       "      <td>555</td>\n",
       "      <td>Campeões</td>\n",
       "    </tr>\n",
       "  </tbody>\n",
       "</table>\n",
       "</div>"
      ],
      "text/plain": [
       "                 customer_unique_id  recencia_dias  frequencia  \\\n",
       "0  f2c2365cab7dc57ab8c90f9c3bee015a             72           1   \n",
       "1  4fbbe3e555c12c6fb7184b3e2d04fb49            132           1   \n",
       "2  f2c10bd6c35a005af95c9c000b3cfd9d            134           1   \n",
       "3  b4d20b907a61795e8c8f3a7966c6cfb9            125           2   \n",
       "4  934157f44075d9ca396f27f72c99a338            128           1   \n",
       "\n",
       "   valor_total_gasto  r_score  f_score  m_score  rfm_score_completo  segmento  \n",
       "0             209.46        5        5        5                 555  Campeões  \n",
       "1             209.96        5        5        5                 555  Campeões  \n",
       "2             229.28        5        5        5                 555  Campeões  \n",
       "3             249.60        5        5        5                 555  Campeões  \n",
       "4             333.45        5        5        5                 555  Campeões  "
      ]
     },
     "execution_count": 8,
     "metadata": {},
     "output_type": "execute_result"
    }
   ],
   "source": [
    "\n",
    "import pandas as pd\n",
    "\n",
    "df = pd.read_csv('05_segmentacao_rfm_final.sql.csv')\n",
    "df.head()"
   ]
  },
  {
   "cell_type": "code",
   "execution_count": 10,
   "id": "a212c9d5",
   "metadata": {},
   "outputs": [
    {
     "name": "stdout",
     "output_type": "stream",
     "text": [
      "<class 'pandas.core.frame.DataFrame'>\n",
      "RangeIndex: 93358 entries, 0 to 93357\n",
      "Data columns (total 9 columns):\n",
      " #   Column              Non-Null Count  Dtype  \n",
      "---  ------              --------------  -----  \n",
      " 0   customer_unique_id  93358 non-null  object \n",
      " 1   recencia_dias       93358 non-null  int64  \n",
      " 2   frequencia          93358 non-null  int64  \n",
      " 3   valor_total_gasto   93358 non-null  float64\n",
      " 4   r_score             93358 non-null  int64  \n",
      " 5   f_score             93358 non-null  int64  \n",
      " 6   m_score             93358 non-null  int64  \n",
      " 7   rfm_score_completo  93358 non-null  int64  \n",
      " 8   segmento            93358 non-null  object \n",
      "dtypes: float64(1), int64(6), object(2)\n",
      "memory usage: 6.4+ MB\n"
     ]
    },
    {
     "data": {
      "text/html": [
       "<div>\n",
       "<style scoped>\n",
       "    .dataframe tbody tr th:only-of-type {\n",
       "        vertical-align: middle;\n",
       "    }\n",
       "\n",
       "    .dataframe tbody tr th {\n",
       "        vertical-align: top;\n",
       "    }\n",
       "\n",
       "    .dataframe thead th {\n",
       "        text-align: right;\n",
       "    }\n",
       "</style>\n",
       "<table border=\"1\" class=\"dataframe\">\n",
       "  <thead>\n",
       "    <tr style=\"text-align: right;\">\n",
       "      <th></th>\n",
       "      <th>recencia_dias</th>\n",
       "      <th>frequencia</th>\n",
       "      <th>valor_total_gasto</th>\n",
       "      <th>r_score</th>\n",
       "      <th>f_score</th>\n",
       "      <th>m_score</th>\n",
       "      <th>rfm_score_completo</th>\n",
       "    </tr>\n",
       "  </thead>\n",
       "  <tbody>\n",
       "    <tr>\n",
       "      <th>count</th>\n",
       "      <td>93358.000000</td>\n",
       "      <td>93358.000000</td>\n",
       "      <td>93358.000000</td>\n",
       "      <td>93358.000000</td>\n",
       "      <td>93358.000000</td>\n",
       "      <td>93358.000000</td>\n",
       "      <td>93358.000000</td>\n",
       "    </tr>\n",
       "    <tr>\n",
       "      <th>mean</th>\n",
       "      <td>286.478877</td>\n",
       "      <td>1.033420</td>\n",
       "      <td>165.197003</td>\n",
       "      <td>2.999968</td>\n",
       "      <td>2.999968</td>\n",
       "      <td>2.999968</td>\n",
       "      <td>332.996433</td>\n",
       "    </tr>\n",
       "    <tr>\n",
       "      <th>std</th>\n",
       "      <td>152.595054</td>\n",
       "      <td>0.209097</td>\n",
       "      <td>226.314012</td>\n",
       "      <td>1.414217</td>\n",
       "      <td>1.414217</td>\n",
       "      <td>1.414217</td>\n",
       "      <td>142.364772</td>\n",
       "    </tr>\n",
       "    <tr>\n",
       "      <th>min</th>\n",
       "      <td>49.000000</td>\n",
       "      <td>1.000000</td>\n",
       "      <td>0.000000</td>\n",
       "      <td>1.000000</td>\n",
       "      <td>1.000000</td>\n",
       "      <td>1.000000</td>\n",
       "      <td>111.000000</td>\n",
       "    </tr>\n",
       "    <tr>\n",
       "      <th>25%</th>\n",
       "      <td>163.000000</td>\n",
       "      <td>1.000000</td>\n",
       "      <td>63.052500</td>\n",
       "      <td>2.000000</td>\n",
       "      <td>2.000000</td>\n",
       "      <td>2.000000</td>\n",
       "      <td>222.000000</td>\n",
       "    </tr>\n",
       "    <tr>\n",
       "      <th>50%</th>\n",
       "      <td>267.000000</td>\n",
       "      <td>1.000000</td>\n",
       "      <td>107.780000</td>\n",
       "      <td>3.000000</td>\n",
       "      <td>3.000000</td>\n",
       "      <td>3.000000</td>\n",
       "      <td>333.000000</td>\n",
       "    </tr>\n",
       "    <tr>\n",
       "      <th>75%</th>\n",
       "      <td>395.000000</td>\n",
       "      <td>1.000000</td>\n",
       "      <td>182.557500</td>\n",
       "      <td>4.000000</td>\n",
       "      <td>4.000000</td>\n",
       "      <td>4.000000</td>\n",
       "      <td>444.000000</td>\n",
       "    </tr>\n",
       "    <tr>\n",
       "      <th>max</th>\n",
       "      <td>762.000000</td>\n",
       "      <td>15.000000</td>\n",
       "      <td>13664.080000</td>\n",
       "      <td>5.000000</td>\n",
       "      <td>5.000000</td>\n",
       "      <td>5.000000</td>\n",
       "      <td>555.000000</td>\n",
       "    </tr>\n",
       "  </tbody>\n",
       "</table>\n",
       "</div>"
      ],
      "text/plain": [
       "       recencia_dias    frequencia  valor_total_gasto       r_score  \\\n",
       "count   93358.000000  93358.000000       93358.000000  93358.000000   \n",
       "mean      286.478877      1.033420         165.197003      2.999968   \n",
       "std       152.595054      0.209097         226.314012      1.414217   \n",
       "min        49.000000      1.000000           0.000000      1.000000   \n",
       "25%       163.000000      1.000000          63.052500      2.000000   \n",
       "50%       267.000000      1.000000         107.780000      3.000000   \n",
       "75%       395.000000      1.000000         182.557500      4.000000   \n",
       "max       762.000000     15.000000       13664.080000      5.000000   \n",
       "\n",
       "            f_score       m_score  rfm_score_completo  \n",
       "count  93358.000000  93358.000000        93358.000000  \n",
       "mean       2.999968      2.999968          332.996433  \n",
       "std        1.414217      1.414217          142.364772  \n",
       "min        1.000000      1.000000          111.000000  \n",
       "25%        2.000000      2.000000          222.000000  \n",
       "50%        3.000000      3.000000          333.000000  \n",
       "75%        4.000000      4.000000          444.000000  \n",
       "max        5.000000      5.000000          555.000000  "
      ]
     },
     "execution_count": 10,
     "metadata": {},
     "output_type": "execute_result"
    }
   ],
   "source": [
    "df.info()\n",
    "df.describe()"
   ]
  },
  {
   "cell_type": "code",
   "execution_count": null,
   "id": "dcf8de33",
   "metadata": {},
   "outputs": [
    {
     "data": {
      "text/plain": [
       "segmento\n",
       "Precisam de Atenção    63178\n",
       "Em Risco               15187\n",
       "Campeões                7615\n",
       "Clientes Leais          7378\n",
       "Name: count, dtype: int64"
      ]
     },
     "execution_count": 11,
     "metadata": {},
     "output_type": "execute_result"
    }
   ],
   "source": [
    "df['segmento'].value_counts()"
   ]
  },
  {
   "cell_type": "code",
   "execution_count": 14,
   "id": "df6f52e8",
   "metadata": {},
   "outputs": [
    {
     "data": {
      "text/html": [
       "<div>\n",
       "<style scoped>\n",
       "    .dataframe tbody tr th:only-of-type {\n",
       "        vertical-align: middle;\n",
       "    }\n",
       "\n",
       "    .dataframe tbody tr th {\n",
       "        vertical-align: top;\n",
       "    }\n",
       "\n",
       "    .dataframe thead th {\n",
       "        text-align: right;\n",
       "    }\n",
       "</style>\n",
       "<table border=\"1\" class=\"dataframe\">\n",
       "  <thead>\n",
       "    <tr style=\"text-align: right;\">\n",
       "      <th></th>\n",
       "      <th>med_r_dias</th>\n",
       "      <th>med_f_</th>\n",
       "      <th>med_valor_gasto</th>\n",
       "      <th>cont_client</th>\n",
       "    </tr>\n",
       "    <tr>\n",
       "      <th>segmento</th>\n",
       "      <th></th>\n",
       "      <th></th>\n",
       "      <th></th>\n",
       "      <th></th>\n",
       "    </tr>\n",
       "  </thead>\n",
       "  <tbody>\n",
       "    <tr>\n",
       "      <th>Clientes Leais</th>\n",
       "      <td>183.69</td>\n",
       "      <td>1.09</td>\n",
       "      <td>179.66</td>\n",
       "      <td>7378</td>\n",
       "    </tr>\n",
       "    <tr>\n",
       "      <th>Campeões</th>\n",
       "      <td>94.43</td>\n",
       "      <td>1.09</td>\n",
       "      <td>178.28</td>\n",
       "      <td>7615</td>\n",
       "    </tr>\n",
       "    <tr>\n",
       "      <th>Em Risco</th>\n",
       "      <td>444.39</td>\n",
       "      <td>1.00</td>\n",
       "      <td>163.46</td>\n",
       "      <td>15187</td>\n",
       "    </tr>\n",
       "    <tr>\n",
       "      <th>Precisam de Atenção</th>\n",
       "      <td>283.67</td>\n",
       "      <td>1.03</td>\n",
       "      <td>162.35</td>\n",
       "      <td>63178</td>\n",
       "    </tr>\n",
       "  </tbody>\n",
       "</table>\n",
       "</div>"
      ],
      "text/plain": [
       "                     med_r_dias  med_f_  med_valor_gasto  cont_client\n",
       "segmento                                                             \n",
       "Clientes Leais           183.69    1.09           179.66         7378\n",
       "Campeões                  94.43    1.09           178.28         7615\n",
       "Em Risco                 444.39    1.00           163.46        15187\n",
       "Precisam de Atenção      283.67    1.03           162.35        63178"
      ]
     },
     "execution_count": 14,
     "metadata": {},
     "output_type": "execute_result"
    }
   ],
   "source": [
    "analise_por_segmento = df.groupby('segmento').agg(\n",
    "\tmed_r_dias = ('recencia_dias', 'mean'),\n",
    "\tmed_f_ = ('frequencia', 'mean'),\n",
    "\tmed_valor_gasto = ('valor_total_gasto', 'mean'),\n",
    "\tcont_client = ('customer_unique_id', 'count'),\n",
    ").sort_values(by='med_valor_gasto', ascending=False)\n",
    "\n",
    "analise_por_segmento = analise_por_segmento.round(2)\n",
    "\n",
    "analise_por_segmento"
   ]
  },
  {
   "cell_type": "markdown",
   "id": "2a22f9c6",
   "metadata": {},
   "source": [
    "Dia 04 -  Data Viz"
   ]
  },
  {
   "cell_type": "code",
   "execution_count": 24,
   "id": "a615bead",
   "metadata": {},
   "outputs": [],
   "source": [
    "\n",
    "import matplotlib.pyplot as plt\n",
    "import seaborn as sns\n"
   ]
  },
  {
   "cell_type": "code",
   "execution_count": 28,
   "id": "90c6ef7a",
   "metadata": {},
   "outputs": [
    {
     "name": "stderr",
     "output_type": "stream",
     "text": [
      "C:\\Users\\agatha.costa\\AppData\\Local\\Temp\\ipykernel_23824\\1896749296.py:2: FutureWarning: \n",
      "\n",
      "Passing `palette` without assigning `hue` is deprecated and will be removed in v0.14.0. Assign the `y` variable to `hue` and set `legend=False` for the same effect.\n",
      "\n",
      "  sns.barplot(\n"
     ]
    },
    {
     "data": {
      "image/png": "[encoded data removed]",
      "text/plain": [
       "<Figure size 1200x600 with 1 Axes>"
      ]
     },
     "metadata": {},
     "output_type": "display_data"
    }
   ],
   "source": [
    "plt.figure(figsize=(12, 6))\n",
    "sns.barplot(\n",
    "    x='cont_client', \n",
    "    y='segmento', \n",
    "    data=analise_por_segmento.sort_values(by='cont_client', ascending=False),\n",
    "    palette='viridis'\n",
    ")\n",
    "\n",
    "plt.title('Distribuição de Clientes por Segmento RFM', fontsize=16)\n",
    "plt.xlabel('Quantidade de Clientes', fontsize=12)\n",
    "plt.ylabel('Segmento', fontsize=12)\n",
    "plt.show()"
   ]
  },
  {
   "cell_type": "code",
   "execution_count": 31,
   "id": "936f48b4",
   "metadata": {},
   "outputs": [
    {
     "name": "stderr",
     "output_type": "stream",
     "text": [
      "C:\\Users\\agatha.costa\\AppData\\Local\\Temp\\ipykernel_23824\\1463083906.py:2: FutureWarning: \n",
      "\n",
      "Passing `palette` without assigning `hue` is deprecated and will be removed in v0.14.0. Assign the `y` variable to `hue` and set `legend=False` for the same effect.\n",
      "\n",
      "  sns.barplot(\n"
     ]
    },
    {
     "data": {
      "image/png": "[encoded data removed]",
      "text/plain": [
       "<Figure size 1200x600 with 1 Axes>"
      ]
     },
     "metadata": {},
     "output_type": "display_data"
    }
   ],
   "source": [
    "plt.figure(figsize=(12, 6))\n",
    "sns.barplot(\n",
    "    x='med_valor_gasto', \n",
    "    y='segmento', \n",
    "    data=analise_por_segmento, # analise_final já está ordenada por media_valor_gasto\n",
    "    palette='plasma'\n",
    ")\n",
    "\n",
    "plt.title('Valor Médio Gasto (Monetário) por Segmento', fontsize=16)\n",
    "plt.xlabel('Valor Médio Gasto (R$)', fontsize=12)\n",
    "plt.ylabel('Segmento', fontsize=12)\n",
    "plt.show() "
   ]
  },
  {
   "cell_type": "code",
   "execution_count": 1,
   "id": "a2ee0a5a",
   "metadata": {},
   "outputs": [],
   "source": [
    "import streamlit as st\n",
    "import pandas as pd\n",
    "import seaborn as sns\n",
    "import matplotlib.pyplot as plt"
   ]
  },
  {
   "cell_type": "code",
   "execution_count": 5,
   "id": "6cf3768a",
   "metadata": {},
   "outputs": [
    {
     "name": "stderr",
     "output_type": "stream",
     "text": [
      "2025-08-02 19:24:54.448 Thread 'MainThread': missing ScriptRunContext! This warning can be ignored when running in bare mode.\n",
      "2025-08-02 19:24:54.451 Thread 'MainThread': missing ScriptRunContext! This warning can be ignored when running in bare mode.\n",
      "2025-08-02 19:24:54.453 Thread 'MainThread': missing ScriptRunContext! This warning can be ignored when running in bare mode.\n",
      "2025-08-02 19:24:54.455 Thread 'MainThread': missing ScriptRunContext! This warning can be ignored when running in bare mode.\n",
      "2025-08-02 19:24:54.611 Thread 'MainThread': missing ScriptRunContext! This warning can be ignored when running in bare mode.\n",
      "2025-08-02 19:24:54.612 Thread 'MainThread': missing ScriptRunContext! This warning can be ignored when running in bare mode.\n",
      "2025-08-02 19:24:54.612 Thread 'MainThread': missing ScriptRunContext! This warning can be ignored when running in bare mode.\n"
     ]
    }
   ],
   "source": [
    "st.set_page_config(layout=\"wide\") \n",
    "st.title('Dashboard Interativo de Segmentação RFM 🏆')\n",
    "df_rfm = pd.read_csv('05_segmentacao_rfm_final.sql.csv')\n",
    "st.write(\"Análise dos segmentos de clientes da Olist.\")"
   ]
  }
 ],
 "metadata": {
  "kernelspec": {
   "display_name": "Python 3",
   "language": "python",
   "name": "python3"
  },
  "language_info": {
   "codemirror_mode": {
    "name": "ipython",
    "version": 3
   },
   "file_extension": ".py",
   "mimetype": "text/x-python",
   "name": "python",
   "nbconvert_exporter": "python",
   "pygments_lexer": "ipython3",
   "version": "3.13.5"
  }
 },
 "nbformat": 4,
 "nbformat_minor": 5
}
